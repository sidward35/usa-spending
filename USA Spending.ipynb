{
 "cells": [
  {
   "cell_type": "code",
   "execution_count": 1,
   "metadata": {},
   "outputs": [],
   "source": [
    "import requests\n",
    "import pandas as pd\n",
    "import json\n",
    "import plotly.express as px\n",
    "import plotly.graph_objects as go\n",
    "\n",
    "pd.options.display.float_format = '{:,.2f}'.format"
   ]
  },
  {
   "cell_type": "code",
   "execution_count": 2,
   "metadata": {},
   "outputs": [],
   "source": [
    "%%capture\n",
    "requests.post('https://maker.ifttt.com/trigger/heroku_app/with/key/c1rbTcV6gKEl94vAuT3vah', params={'value1':'USA Spending'})"
   ]
  },
  {
   "cell_type": "code",
   "execution_count": 3,
   "metadata": {},
   "outputs": [],
   "source": [
    "agency_req = requests.get('https://api.usaspending.gov/api/v2/references/toptier_agencies')\n",
    "agency_json = agency_req.json()['results']"
   ]
  },
  {
   "cell_type": "code",
   "execution_count": 4,
   "metadata": {},
   "outputs": [],
   "source": [
    "df = pd.DataFrame.from_dict(agency_json)\n",
    "#df.obligated_amount = df.obligated_amount.astype(float)\n",
    "#df = df.sort_values('obligated_amount', ignore_index=True)\n",
    "#df.head(len(df))"
   ]
  },
  {
   "cell_type": "code",
   "execution_count": 5,
   "metadata": {
    "scrolled": true
   },
   "outputs": [],
   "source": [
    "agency_ids = df['agency_id'].to_list()\n",
    "agency_names = df['agency_name'].to_list()"
   ]
  },
  {
   "cell_type": "code",
   "execution_count": 6,
   "metadata": {},
   "outputs": [],
   "source": [
    "data = []\n",
    "year=2021\n",
    "for agency,agency_name in zip(agency_ids,agency_names):\n",
    "    request = requests.get('https://api.usaspending.gov/api/v2/federal_obligations/?fiscal_year='+str(year)+'&funding_agency_id='+str(agency)+'&limit=500&page=1')\n",
    "    req_json = request.json()['results']\n",
    "    for element in req_json:\n",
    "        element['agency_id'] = agency\n",
    "        element['agency_name'] = agency_name\n",
    "        data.append(element)"
   ]
  },
  {
   "cell_type": "code",
   "execution_count": 7,
   "metadata": {},
   "outputs": [],
   "source": [
    "output = pd.DataFrame.from_dict(data)\n",
    "output.obligated_amount = output.obligated_amount.astype(float)\n",
    "#output = output.sort_values('obligated_amount', ignore_index=True)\n",
    "#output.head(len(output))"
   ]
  },
  {
   "cell_type": "code",
   "execution_count": 8,
   "metadata": {
    "scrolled": false
   },
   "outputs": [
    {
     "data": {
      "application/vnd.jupyter.widget-view+json": {
       "model_id": "b6bcab068664402e80141bd1c56e0ca1",
       "version_major": 2,
       "version_minor": 0
      },
      "text/plain": [
       "FigureWidget({\n",
       "    'data': [{'branchvalues': 'total',\n",
       "              'domain': {'x': [0.0, 1.0], 'y': [0.0, 1.0…"
      ]
     },
     "metadata": {},
     "output_type": "display_data"
    }
   ],
   "source": [
    "output['budget'] = 'Budget'\n",
    "fig = px.treemap(output, path=['budget', 'agency_name', 'account_title'], values='obligated_amount')\n",
    "fig.data[0].textinfo = 'label+percent parent+percent root'\n",
    "fig.data[0].hovertemplate='<b>%{label} </b> <br> Budget: $%{value:,.2f}<br> Percent Parent: %{percentParent:.2%}'\n",
    "widget = go.FigureWidget(fig)\n",
    "widget.layout.title = 'USA Budgets in '+str(year)\n",
    "widget.update_layout(\n",
    "    autosize=True,\n",
    "    width=1470,\n",
    "    height=655,\n",
    "    margin=dict(\n",
    "        l=10,\n",
    "        r=10,\n",
    "        b=10,\n",
    "        t=50,\n",
    "        pad=1\n",
    "    ),\n",
    "    title_x=0.5\n",
    ")\n",
    "widget"
   ]
  }
 ],
 "metadata": {
  "kernelspec": {
   "display_name": "Python 3",
   "language": "python",
   "name": "python3"
  },
  "language_info": {
   "codemirror_mode": {
    "name": "ipython",
    "version": 3
   },
   "file_extension": ".py",
   "mimetype": "text/x-python",
   "name": "python",
   "nbconvert_exporter": "python",
   "pygments_lexer": "ipython3",
   "version": "3.8.3"
  }
 },
 "nbformat": 4,
 "nbformat_minor": 4
}
